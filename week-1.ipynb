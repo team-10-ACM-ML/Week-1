{
  "nbformat": 4,
  "nbformat_minor": 0,
  "metadata": {
    "colab": {
      "name": "courses.ipynb",
      "provenance": [],
      "collapsed_sections": []
    },
    "kernelspec": {
      "name": "python3",
      "display_name": "Python 3"
    }
  },
  "cells": [
    {
      "cell_type": "code",
      "metadata": {
        "id": "mgUhTLbLzhA4",
        "colab_type": "code",
        "colab": {}
      },
      "source": [
        "import pandas as pd"
      ],
      "execution_count": null,
      "outputs": []
    },
    {
      "cell_type": "code",
      "metadata": {
        "id": "OiLcAhx6zt2T",
        "colab_type": "code",
        "colab": {
          "base_uri": "https://localhost:8080/",
          "height": 252
        },
        "outputId": "cc63305f-6a2e-4600-a823-7d39f449f65f"
      },
      "source": [
        "courses= pd.read_csv(\"udemy_courses.csv\")\n",
        "print(courses) "
      ],
      "execution_count": null,
      "outputs": [
        {
          "output_type": "stream",
          "text": [
            "      course_id  ...           subject\n",
            "0       1070968  ...  Business Finance\n",
            "1       1113822  ...  Business Finance\n",
            "2       1006314  ...  Business Finance\n",
            "3       1210588  ...  Business Finance\n",
            "4       1011058  ...  Business Finance\n",
            "...         ...  ...               ...\n",
            "3673     775618  ...   Web Development\n",
            "3674    1088178  ...   Web Development\n",
            "3675     635248  ...   Web Development\n",
            "3676     905096  ...   Web Development\n",
            "3677     297602  ...   Web Development\n",
            "\n",
            "[3678 rows x 12 columns]\n"
          ],
          "name": "stdout"
        }
      ]
    },
    {
      "cell_type": "code",
      "metadata": {
        "id": "mPrzcnXv0qLe",
        "colab_type": "code",
        "colab": {
          "base_uri": "https://localhost:8080/",
          "height": 993
        },
        "outputId": "d9d9409e-6139-446e-b882-c201e6ecdd29"
      },
      "source": [
        "courses.sort_values(by=['price'],inplace=True)\n",
        "courses"
      ],
      "execution_count": null,
      "outputs": [
        {
          "output_type": "execute_result",
          "data": {
            "text/html": [
              "<div>\n",
              "<style scoped>\n",
              "    .dataframe tbody tr th:only-of-type {\n",
              "        vertical-align: middle;\n",
              "    }\n",
              "\n",
              "    .dataframe tbody tr th {\n",
              "        vertical-align: top;\n",
              "    }\n",
              "\n",
              "    .dataframe thead th {\n",
              "        text-align: right;\n",
              "    }\n",
              "</style>\n",
              "<table border=\"1\" class=\"dataframe\">\n",
              "  <thead>\n",
              "    <tr style=\"text-align: right;\">\n",
              "      <th></th>\n",
              "      <th>course_id</th>\n",
              "      <th>course_title</th>\n",
              "      <th>url</th>\n",
              "      <th>is_paid</th>\n",
              "      <th>price</th>\n",
              "      <th>num_subscribers</th>\n",
              "      <th>num_reviews</th>\n",
              "      <th>num_lectures</th>\n",
              "      <th>level</th>\n",
              "      <th>content_duration</th>\n",
              "      <th>published_timestamp</th>\n",
              "      <th>subject</th>\n",
              "    </tr>\n",
              "  </thead>\n",
              "  <tbody>\n",
              "    <tr>\n",
              "      <th>1369</th>\n",
              "      <td>874656</td>\n",
              "      <td>Create Stunning Infographics to Share your Ideas</td>\n",
              "      <td>https://www.udemy.com/infographic/</td>\n",
              "      <td>False</td>\n",
              "      <td>0</td>\n",
              "      <td>5175</td>\n",
              "      <td>470</td>\n",
              "      <td>7</td>\n",
              "      <td>Beginner Level</td>\n",
              "      <td>0.5</td>\n",
              "      <td>2016-08-14T22:04:11Z</td>\n",
              "      <td>Graphic Design</td>\n",
              "    </tr>\n",
              "    <tr>\n",
              "      <th>433</th>\n",
              "      <td>199822</td>\n",
              "      <td>IAS 12 - Accounting for Income Taxes (Basics)</td>\n",
              "      <td>https://www.udemy.com/ias-12-accounting-for-in...</td>\n",
              "      <td>False</td>\n",
              "      <td>0</td>\n",
              "      <td>4269</td>\n",
              "      <td>60</td>\n",
              "      <td>17</td>\n",
              "      <td>All Levels</td>\n",
              "      <td>4.5</td>\n",
              "      <td>2014-05-17T13:19:55Z</td>\n",
              "      <td>Business Finance</td>\n",
              "    </tr>\n",
              "    <tr>\n",
              "      <th>432</th>\n",
              "      <td>830870</td>\n",
              "      <td>Forex Trading For Beginners: Technical Trading</td>\n",
              "      <td>https://www.udemy.com/forex-trading-for-beginn...</td>\n",
              "      <td>False</td>\n",
              "      <td>0</td>\n",
              "      <td>1685</td>\n",
              "      <td>29</td>\n",
              "      <td>16</td>\n",
              "      <td>Beginner Level</td>\n",
              "      <td>2.0</td>\n",
              "      <td>2016-04-28T22:42:54Z</td>\n",
              "      <td>Business Finance</td>\n",
              "    </tr>\n",
              "    <tr>\n",
              "      <th>966</th>\n",
              "      <td>662996</td>\n",
              "      <td>The Tax Advantaged Investor: A Guide to Legal ...</td>\n",
              "      <td>https://www.udemy.com/university-of-puerto-ric...</td>\n",
              "      <td>False</td>\n",
              "      <td>0</td>\n",
              "      <td>1888</td>\n",
              "      <td>42</td>\n",
              "      <td>25</td>\n",
              "      <td>All Levels</td>\n",
              "      <td>2.0</td>\n",
              "      <td>2015-12-17T05:22:24Z</td>\n",
              "      <td>Business Finance</td>\n",
              "    </tr>\n",
              "    <tr>\n",
              "      <th>3297</th>\n",
              "      <td>563668</td>\n",
              "      <td>Learn how to create a WordPress theme using Pi...</td>\n",
              "      <td>https://www.udemy.com/learn-how-to-create-a-wo...</td>\n",
              "      <td>False</td>\n",
              "      <td>0</td>\n",
              "      <td>11812</td>\n",
              "      <td>152</td>\n",
              "      <td>19</td>\n",
              "      <td>Intermediate Level</td>\n",
              "      <td>2.0</td>\n",
              "      <td>2015-07-27T18:26:45Z</td>\n",
              "      <td>Web Development</td>\n",
              "    </tr>\n",
              "    <tr>\n",
              "      <th>...</th>\n",
              "      <td>...</td>\n",
              "      <td>...</td>\n",
              "      <td>...</td>\n",
              "      <td>...</td>\n",
              "      <td>...</td>\n",
              "      <td>...</td>\n",
              "      <td>...</td>\n",
              "      <td>...</td>\n",
              "      <td>...</td>\n",
              "      <td>...</td>\n",
              "      <td>...</td>\n",
              "      <td>...</td>\n",
              "    </tr>\n",
              "    <tr>\n",
              "      <th>3233</th>\n",
              "      <td>446134</td>\n",
              "      <td>Ultimate Web Designer &amp; Developer Course: Buil...</td>\n",
              "      <td>https://www.udemy.com/web-developer-course/</td>\n",
              "      <td>True</td>\n",
              "      <td>200</td>\n",
              "      <td>33788</td>\n",
              "      <td>4434</td>\n",
              "      <td>246</td>\n",
              "      <td>All Levels</td>\n",
              "      <td>32.5</td>\n",
              "      <td>2015-08-20T20:55:19Z</td>\n",
              "      <td>Web Development</td>\n",
              "    </tr>\n",
              "    <tr>\n",
              "      <th>3232</th>\n",
              "      <td>764164</td>\n",
              "      <td>The Complete Web Developer Course 2.0</td>\n",
              "      <td>https://www.udemy.com/the-complete-web-develop...</td>\n",
              "      <td>True</td>\n",
              "      <td>200</td>\n",
              "      <td>114512</td>\n",
              "      <td>22412</td>\n",
              "      <td>304</td>\n",
              "      <td>All Levels</td>\n",
              "      <td>30.5</td>\n",
              "      <td>2016-03-08T22:28:36Z</td>\n",
              "      <td>Web Development</td>\n",
              "    </tr>\n",
              "    <tr>\n",
              "      <th>1136</th>\n",
              "      <td>645634</td>\n",
              "      <td>How to Build Profitable FOREX Automated Tradin...</td>\n",
              "      <td>https://www.udemy.com/how-to-build-profitable-...</td>\n",
              "      <td>True</td>\n",
              "      <td>200</td>\n",
              "      <td>358</td>\n",
              "      <td>8</td>\n",
              "      <td>21</td>\n",
              "      <td>All Levels</td>\n",
              "      <td>2.5</td>\n",
              "      <td>2015-11-11T01:16:13Z</td>\n",
              "      <td>Business Finance</td>\n",
              "    </tr>\n",
              "    <tr>\n",
              "      <th>888</th>\n",
              "      <td>1083744</td>\n",
              "      <td>How to Invest Using ETFs from Former Wall Stre...</td>\n",
              "      <td>https://www.udemy.com/etf-master-class/</td>\n",
              "      <td>True</td>\n",
              "      <td>200</td>\n",
              "      <td>0</td>\n",
              "      <td>0</td>\n",
              "      <td>10</td>\n",
              "      <td>All Levels</td>\n",
              "      <td>2.0</td>\n",
              "      <td>2017-02-15T22:34:00Z</td>\n",
              "      <td>Business Finance</td>\n",
              "    </tr>\n",
              "    <tr>\n",
              "      <th>0</th>\n",
              "      <td>1070968</td>\n",
              "      <td>Ultimate Investment Banking Course</td>\n",
              "      <td>https://www.udemy.com/ultimate-investment-bank...</td>\n",
              "      <td>True</td>\n",
              "      <td>200</td>\n",
              "      <td>2147</td>\n",
              "      <td>23</td>\n",
              "      <td>51</td>\n",
              "      <td>All Levels</td>\n",
              "      <td>1.5</td>\n",
              "      <td>2017-01-18T20:58:58Z</td>\n",
              "      <td>Business Finance</td>\n",
              "    </tr>\n",
              "  </tbody>\n",
              "</table>\n",
              "<p>3678 rows × 12 columns</p>\n",
              "</div>"
            ],
            "text/plain": [
              "      course_id  ...           subject\n",
              "1369     874656  ...    Graphic Design\n",
              "433      199822  ...  Business Finance\n",
              "432      830870  ...  Business Finance\n",
              "966      662996  ...  Business Finance\n",
              "3297     563668  ...   Web Development\n",
              "...         ...  ...               ...\n",
              "3233     446134  ...   Web Development\n",
              "3232     764164  ...   Web Development\n",
              "1136     645634  ...  Business Finance\n",
              "888     1083744  ...  Business Finance\n",
              "0       1070968  ...  Business Finance\n",
              "\n",
              "[3678 rows x 12 columns]"
            ]
          },
          "metadata": {
            "tags": []
          },
          "execution_count": 29
        }
      ]
    },
    {
      "cell_type": "code",
      "metadata": {
        "id": "71q3ZfDf065a",
        "colab_type": "code",
        "colab": {
          "base_uri": "https://localhost:8080/",
          "height": 252
        },
        "outputId": "b5b697ac-35c7-4a06-89f1-78d53f97410c"
      },
      "source": [
        "free = courses[courses['price']<=0]\n",
        "print(free)"
      ],
      "execution_count": null,
      "outputs": [
        {
          "output_type": "stream",
          "text": [
            "      course_id  ...           subject\n",
            "1369     874656  ...    Graphic Design\n",
            "433      199822  ...  Business Finance\n",
            "432      830870  ...  Business Finance\n",
            "966      662996  ...  Business Finance\n",
            "3297     563668  ...   Web Development\n",
            "...         ...  ...               ...\n",
            "2592     314462  ...   Web Development\n",
            "1394     839536  ...    Graphic Design\n",
            "3528     954948  ...   Web Development\n",
            "2606     470288  ...   Web Development\n",
            "193      919906  ...  Business Finance\n",
            "\n",
            "[310 rows x 12 columns]\n"
          ],
          "name": "stdout"
        }
      ]
    },
    {
      "cell_type": "code",
      "metadata": {
        "id": "SMo90ARc12is",
        "colab_type": "code",
        "colab": {
          "base_uri": "https://localhost:8080/",
          "height": 312
        },
        "outputId": "b9521aa1-07be-4b39-a5b1-9037cc394192"
      },
      "source": [
        "import matplotlib.pyplot as plt\n",
        "plt.bar(x=free['price'],height=free['num_subscribers'])\n",
        "plt.title(\"FREE COURSES --- price vs num_subscribers\")\n",
        "plt.xlabel(\"price\")\n",
        "plt.ylabel(\"num_subscribers\")"
      ],
      "execution_count": null,
      "outputs": [
        {
          "output_type": "execute_result",
          "data": {
            "text/plain": [
              "Text(0, 0.5, 'num_subscribers')"
            ]
          },
          "metadata": {
            "tags": []
          },
          "execution_count": 37
        },
        {
          "output_type": "display_data",
          "data": {
            "image/png": "[encoded data removed]",
            "text/plain": [
              "<Figure size 432x288 with 1 Axes>"
            ]
          },
          "metadata": {
            "tags": [],
            "needs_background": "light"
          }
        }
      ]
    },
    {
      "cell_type": "code",
      "metadata": {
        "id": "p5FfbpFe3fAF",
        "colab_type": "code",
        "colab": {
          "base_uri": "https://localhost:8080/",
          "height": 312
        },
        "outputId": "d0066990-fffa-4b1a-f610-873301f180a1"
      },
      "source": [
        "plt.bar(x=free['price'],height=free['num_reviews'])\n",
        "plt.title(\"FREE COURSES --- price vs num_reviews\")\n",
        "plt.xlabel(\"price\")\n",
        "plt.ylabel(\"num_reviews\")"
      ],
      "execution_count": null,
      "outputs": [
        {
          "output_type": "execute_result",
          "data": {
            "text/plain": [
              "Text(0, 0.5, 'num_reviews')"
            ]
          },
          "metadata": {
            "tags": []
          },
          "execution_count": 38
        },
        {
          "output_type": "display_data",
          "data": {
            "image/png": "[encoded data removed]",
            "text/plain": [
              "<Figure size 432x288 with 1 Axes>"
            ]
          },
          "metadata": {
            "tags": [],
            "needs_background": "light"
          }
        }
      ]
    },
    {
      "cell_type": "code",
      "metadata": {
        "id": "0I3Q0uQ235xJ",
        "colab_type": "code",
        "colab": {
          "base_uri": "https://localhost:8080/",
          "height": 312
        },
        "outputId": "28aed0f7-c1b0-4fa7-8ed5-84f6576d889a"
      },
      "source": [
        "plt.bar(x=free['price'],height=free['num_lectures'])\n",
        "plt.title(\"FREE COURSES --- price vs num_lectures\")\n",
        "plt.xlabel(\"price\")\n",
        "plt.ylabel(\"num_lectures\")"
      ],
      "execution_count": null,
      "outputs": [
        {
          "output_type": "execute_result",
          "data": {
            "text/plain": [
              "Text(0, 0.5, 'num_lectures')"
            ]
          },
          "metadata": {
            "tags": []
          },
          "execution_count": 39
        },
        {
          "output_type": "display_data",
          "data": {
            "image/png": "[encoded data removed]",
            "text/plain": [
              "<Figure size 432x288 with 1 Axes>"
            ]
          },
          "metadata": {
            "tags": [],
            "needs_background": "light"
          }
        }
      ]
    },
    {
      "cell_type": "code",
      "metadata": {
        "id": "N865zZaL4H6U",
        "colab_type": "code",
        "colab": {
          "base_uri": "https://localhost:8080/",
          "height": 312
        },
        "outputId": "145ac16a-4449-42ce-857e-a5a6e8a65f78"
      },
      "source": [
        "plt.bar(x=free['price'],height=free['content_duration'])\n",
        "plt.title(\"FREE COURSES --- price vs content_duration\")\n",
        "plt.xlabel(\"price\")\n",
        "plt.ylabel(\"content_duration\")"
      ],
      "execution_count": null,
      "outputs": [
        {
          "output_type": "execute_result",
          "data": {
            "text/plain": [
              "Text(0, 0.5, 'content_duration')"
            ]
          },
          "metadata": {
            "tags": []
          },
          "execution_count": 40
        },
        {
          "output_type": "display_data",
          "data": {
            "image/png": "[encoded data removed]",
            "text/plain": [
              "<Figure size 432x288 with 1 Axes>"
            ]
          },
          "metadata": {
            "tags": [],
            "needs_background": "light"
          }
        }
      ]
    },
    {
      "cell_type": "code",
      "metadata": {
        "id": "IZijdjJ24kA-",
        "colab_type": "code",
        "colab": {
          "base_uri": "https://localhost:8080/",
          "height": 252
        },
        "outputId": "37e50c9b-b299-47e6-9f92-7073a5dc338e"
      },
      "source": [
        "paid = courses[courses['price']>0]\n",
        "print(paid)"
      ],
      "execution_count": null,
      "outputs": [
        {
          "output_type": "stream",
          "text": [
            "      course_id  ...           subject\n",
            "834      463834  ...  Business Finance\n",
            "1779     709160  ...    Graphic Design\n",
            "1433     366194  ...    Graphic Design\n",
            "1786     121490  ...    Graphic Design\n",
            "851      612528  ...  Business Finance\n",
            "...         ...  ...               ...\n",
            "3233     446134  ...   Web Development\n",
            "3232     764164  ...   Web Development\n",
            "1136     645634  ...  Business Finance\n",
            "888     1083744  ...  Business Finance\n",
            "0       1070968  ...  Business Finance\n",
            "\n",
            "[3368 rows x 12 columns]\n"
          ],
          "name": "stdout"
        }
      ]
    },
    {
      "cell_type": "code",
      "metadata": {
        "id": "xgHqHf1G4vCx",
        "colab_type": "code",
        "colab": {
          "base_uri": "https://localhost:8080/",
          "height": 312
        },
        "outputId": "6e8c664f-d7ec-4737-8a12-de805723eb86"
      },
      "source": [
        "plt.bar(x=paid['price'],height=paid['num_subscribers'])\n",
        "plt.title(\"PAID COURSES --- price vs num_subscribers\")\n",
        "plt.xlabel(\"price\")\n",
        "plt.ylabel(\"num_subscribers\")"
      ],
      "execution_count": null,
      "outputs": [
        {
          "output_type": "execute_result",
          "data": {
            "text/plain": [
              "Text(0, 0.5, 'num_subscribers')"
            ]
          },
          "metadata": {
            "tags": []
          },
          "execution_count": 42
        },
        {
          "output_type": "display_data",
          "data": {
            "image/png": "[encoded data removed]",
            "text/plain": [
              "<Figure size 432x288 with 1 Axes>"
            ]
          },
          "metadata": {
            "tags": [],
            "needs_background": "light"
          }
        }
      ]
    },
    {
      "cell_type": "code",
      "metadata": {
        "id": "NrCWBJc35Gae",
        "colab_type": "code",
        "colab": {
          "base_uri": "https://localhost:8080/",
          "height": 312
        },
        "outputId": "f21d9b62-d3f8-43f8-8146-b09ffede9936"
      },
      "source": [
        "plt.bar(x=paid['price'],height=paid['num_reviews'])\n",
        "plt.title(\"PAID COURSES --- price vs num_reviews\")\n",
        "plt.xlabel(\"price\")\n",
        "plt.ylabel(\"num_reviews\")"
      ],
      "execution_count": null,
      "outputs": [
        {
          "output_type": "execute_result",
          "data": {
            "text/plain": [
              "Text(0, 0.5, 'num_reviews')"
            ]
          },
          "metadata": {
            "tags": []
          },
          "execution_count": 14
        },
        {
          "output_type": "display_data",
          "data": {
            "image/png": "[encoded data removed]",
            "text/plain": [
              "<Figure size 432x288 with 1 Axes>"
            ]
          },
          "metadata": {
            "tags": [],
            "needs_background": "light"
          }
        }
      ]
    },
    {
      "cell_type": "code",
      "metadata": {
        "id": "Hid6xWQD5Vpx",
        "colab_type": "code",
        "colab": {
          "base_uri": "https://localhost:8080/",
          "height": 312
        },
        "outputId": "026c8099-61d1-4d81-ea51-63e71fcdb357"
      },
      "source": [
        "plt.bar(x=paid['price'],height=paid['num_lectures'])\n",
        "plt.title(\"PAID COURSES --- price vs num_lectures\")\n",
        "plt.xlabel(\"price\")\n",
        "plt.ylabel(\"num_lectures\")"
      ],
      "execution_count": null,
      "outputs": [
        {
          "output_type": "execute_result",
          "data": {
            "text/plain": [
              "Text(0, 0.5, 'num_lectures')"
            ]
          },
          "metadata": {
            "tags": []
          },
          "execution_count": 15
        },
        {
          "output_type": "display_data",
          "data": {
            "image/png": "[encoded data removed]",
            "text/plain": [
              "<Figure size 432x288 with 1 Axes>"
            ]
          },
          "metadata": {
            "tags": [],
            "needs_background": "light"
          }
        }
      ]
    },
    {
      "cell_type": "code",
      "metadata": {
        "id": "FjzD9P6Y5r0R",
        "colab_type": "code",
        "colab": {
          "base_uri": "https://localhost:8080/",
          "height": 312
        },
        "outputId": "12b73c40-5209-4c35-9118-fda5aed7671c"
      },
      "source": [
        "plt.bar(x=paid['price'],height=paid['content_duration'])\n",
        "plt.title(\"PAID COURSES --- price vs content_duration\")\n",
        "plt.xlabel(\"price\")\n",
        "plt.ylabel(\"content_duration\")\n"
      ],
      "execution_count": null,
      "outputs": [
        {
          "output_type": "execute_result",
          "data": {
            "text/plain": [
              "Text(0, 0.5, 'content_duration')"
            ]
          },
          "metadata": {
            "tags": []
          },
          "execution_count": 25
        },
        {
          "output_type": "display_data",
          "data": {
            "image/png": "[encoded data removed]",
            "text/plain": [
              "<Figure size 432x288 with 1 Axes>"
            ]
          },
          "metadata": {
            "tags": [],
            "needs_background": "light"
          }
        }
      ]
    },
    {
      "cell_type": "code",
      "metadata": {
        "id": "f9MMHdTebWFd",
        "colab_type": "code",
        "colab": {}
      },
      "source": [
        ""
      ],
      "execution_count": null,
      "outputs": []
    }
  ]
}